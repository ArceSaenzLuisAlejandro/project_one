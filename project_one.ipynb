{
 "cells": [
  {
   "cell_type": "markdown",
   "metadata": {},
   "source": [
    "# Project One"
   ]
  },
  {
   "cell_type": "markdown",
   "metadata": {},
   "source": [
    "Team Members:\n",
    "\n",
    "\n",
    "\n"
   ]
  },
  {
   "cell_type": "markdown",
   "metadata": {},
   "source": [
    "Project Description "
   ]
  },
  {
   "cell_type": "markdown",
   "metadata": {},
   "source": [
    "# Initial Code"
   ]
  },
  {
   "cell_type": "markdown",
   "metadata": {},
   "source": [
    "## Libraries"
   ]
  },
  {
   "cell_type": "code",
   "execution_count": 1,
   "metadata": {},
   "outputs": [],
   "source": [
    "import pandas as pd\n",
    "import matplotlib.pyplot as plt\n",
    "import scipy.stats as st\n",
    "import requests"
   ]
  },
  {
   "cell_type": "markdown",
   "metadata": {},
   "source": [
    "## Get data "
   ]
  },
  {
   "cell_type": "code",
   "execution_count": 2,
   "metadata": {},
   "outputs": [],
   "source": [
    "climate_df = pd.read_csv(\"climate_data.csv\")\n",
    "energy_df = pd.read_csv(\"energy_data.csv\")\n",
    "energy_cost_df = pd.read_csv(\"Tariffs_n_dates.csv\")\n",
    "production_df = pd.read_csv(\"production_data.csv\")\n",
    "\n",
    "# Unpivot raw energy data.\n",
    "energy_df = energy_df.melt(id_vars=['Time stamp'],\n",
    "                     var_name='device',\n",
    "                     value_name='energy')\n",
    "energy_df = energy_df.sort_values(\"Time stamp\")"
   ]
  },
  {
   "cell_type": "markdown",
   "metadata": {},
   "source": [
    "## Merge hourly data "
   ]
  },
  {
   "cell_type": "code",
   "execution_count": 3,
   "metadata": {},
   "outputs": [
    {
     "data": {
      "text/html": [
       "<div>\n",
       "<style scoped>\n",
       "    .dataframe tbody tr th:only-of-type {\n",
       "        vertical-align: middle;\n",
       "    }\n",
       "\n",
       "    .dataframe tbody tr th {\n",
       "        vertical-align: top;\n",
       "    }\n",
       "\n",
       "    .dataframe thead th {\n",
       "        text-align: right;\n",
       "    }\n",
       "</style>\n",
       "<table border=\"1\" class=\"dataframe\">\n",
       "  <thead>\n",
       "    <tr style=\"text-align: right;\">\n",
       "      <th></th>\n",
       "      <th>Time stamp</th>\n",
       "      <th>Date</th>\n",
       "      <th>device</th>\n",
       "      <th>energy</th>\n",
       "      <th>Total Cost</th>\n",
       "    </tr>\n",
       "  </thead>\n",
       "  <tbody>\n",
       "    <tr>\n",
       "      <td>0</td>\n",
       "      <td>01/01/2020 00:00</td>\n",
       "      <td>01/01/2020</td>\n",
       "      <td>COMP_REF1</td>\n",
       "      <td>0.0000</td>\n",
       "      <td>0.000000</td>\n",
       "    </tr>\n",
       "    <tr>\n",
       "      <td>195</td>\n",
       "      <td>01/01/2020 16:00</td>\n",
       "      <td>01/01/2020</td>\n",
       "      <td>COMP_REF9</td>\n",
       "      <td>1.4900</td>\n",
       "      <td>2.474294</td>\n",
       "    </tr>\n",
       "    <tr>\n",
       "      <td>194</td>\n",
       "      <td>01/01/2020 16:00</td>\n",
       "      <td>01/01/2020</td>\n",
       "      <td>TUNEL1</td>\n",
       "      <td>0.1372</td>\n",
       "      <td>0.227834</td>\n",
       "    </tr>\n",
       "    <tr>\n",
       "      <td>193</td>\n",
       "      <td>01/01/2020 16:00</td>\n",
       "      <td>01/01/2020</td>\n",
       "      <td>TUNEL3</td>\n",
       "      <td>0.2318</td>\n",
       "      <td>0.384927</td>\n",
       "    </tr>\n",
       "    <tr>\n",
       "      <td>192</td>\n",
       "      <td>01/01/2020 16:00</td>\n",
       "      <td>01/01/2020</td>\n",
       "      <td>COMP_REF4</td>\n",
       "      <td>0.2772</td>\n",
       "      <td>0.460318</td>\n",
       "    </tr>\n",
       "  </tbody>\n",
       "</table>\n",
       "</div>"
      ],
      "text/plain": [
       "           Time stamp        Date     device  energy  Total Cost\n",
       "0    01/01/2020 00:00  01/01/2020  COMP_REF1  0.0000    0.000000\n",
       "195  01/01/2020 16:00  01/01/2020  COMP_REF9  1.4900    2.474294\n",
       "194  01/01/2020 16:00  01/01/2020     TUNEL1  0.1372    0.227834\n",
       "193  01/01/2020 16:00  01/01/2020     TUNEL3  0.2318    0.384927\n",
       "192  01/01/2020 16:00  01/01/2020  COMP_REF4  0.2772    0.460318"
      ]
     },
     "execution_count": 3,
     "metadata": {},
     "output_type": "execute_result"
    }
   ],
   "source": [
    "# Energy and Cost data\n",
    "hourly_data = pd.merge(energy_df, energy_cost_df, how='left',\n",
    "                      on=\"Time stamp\")\n",
    "hourly_data = hourly_data[[\"Time stamp\",  \"Date\", \"device\", \"energy\",\"Price\"]]\n",
    "hourly_data[\"Total Cost\"] = (hourly_data[\"energy\"] \n",
    "                             * hourly_data[\"Price\"])\n",
    "hourly_data = hourly_data.drop(\"Price\", axis=1)\n",
    "hourly_data = hourly_data.sort_values(\"Date\")\n",
    "hourly_data.head()"
   ]
  },
  {
   "cell_type": "markdown",
   "metadata": {},
   "source": [
    "## Daily data "
   ]
  },
  {
   "cell_type": "code",
   "execution_count": 7,
   "metadata": {},
   "outputs": [
    {
     "data": {
      "text/html": [
       "<div>\n",
       "<style scoped>\n",
       "    .dataframe tbody tr th:only-of-type {\n",
       "        vertical-align: middle;\n",
       "    }\n",
       "\n",
       "    .dataframe tbody tr th {\n",
       "        vertical-align: top;\n",
       "    }\n",
       "\n",
       "    .dataframe thead th {\n",
       "        text-align: right;\n",
       "    }\n",
       "</style>\n",
       "<table border=\"1\" class=\"dataframe\">\n",
       "  <thead>\n",
       "    <tr style=\"text-align: right;\">\n",
       "      <th></th>\n",
       "      <th>Date</th>\n",
       "      <th>device</th>\n",
       "      <th>energy</th>\n",
       "      <th>Total Cost</th>\n",
       "      <th>Product_A</th>\n",
       "      <th>Product_B</th>\n",
       "      <th>Temp</th>\n",
       "      <th>UV</th>\n",
       "      <th>PrecMM</th>\n",
       "      <th>Hum</th>\n",
       "      <th>Heat</th>\n",
       "      <th>DP</th>\n",
       "      <th>WChill</th>\n",
       "      <th>FLike</th>\n",
       "    </tr>\n",
       "  </thead>\n",
       "  <tbody>\n",
       "    <tr>\n",
       "      <td>0</td>\n",
       "      <td>2019-03-01</td>\n",
       "      <td>COMP_REF1</td>\n",
       "      <td>6162.9256</td>\n",
       "      <td>8663.348872</td>\n",
       "      <td>357800.0</td>\n",
       "      <td>340036.2</td>\n",
       "      <td>20.0</td>\n",
       "      <td>6.0</td>\n",
       "      <td>0.0</td>\n",
       "      <td>33.0</td>\n",
       "      <td>20.0</td>\n",
       "      <td>1.0</td>\n",
       "      <td>20.0</td>\n",
       "      <td>20.0</td>\n",
       "    </tr>\n",
       "    <tr>\n",
       "      <td>1</td>\n",
       "      <td>2019-03-01</td>\n",
       "      <td>TUNEL3</td>\n",
       "      <td>5078.9900</td>\n",
       "      <td>7288.358004</td>\n",
       "      <td>357800.0</td>\n",
       "      <td>340036.2</td>\n",
       "      <td>20.0</td>\n",
       "      <td>6.0</td>\n",
       "      <td>0.0</td>\n",
       "      <td>33.0</td>\n",
       "      <td>20.0</td>\n",
       "      <td>1.0</td>\n",
       "      <td>20.0</td>\n",
       "      <td>20.0</td>\n",
       "    </tr>\n",
       "    <tr>\n",
       "      <td>2</td>\n",
       "      <td>2019-03-01</td>\n",
       "      <td>TUNEL2</td>\n",
       "      <td>0.0000</td>\n",
       "      <td>0.000000</td>\n",
       "      <td>357800.0</td>\n",
       "      <td>340036.2</td>\n",
       "      <td>20.0</td>\n",
       "      <td>6.0</td>\n",
       "      <td>0.0</td>\n",
       "      <td>33.0</td>\n",
       "      <td>20.0</td>\n",
       "      <td>1.0</td>\n",
       "      <td>20.0</td>\n",
       "      <td>20.0</td>\n",
       "    </tr>\n",
       "    <tr>\n",
       "      <td>3</td>\n",
       "      <td>2019-03-01</td>\n",
       "      <td>TUNEL1</td>\n",
       "      <td>0.0000</td>\n",
       "      <td>0.000000</td>\n",
       "      <td>357800.0</td>\n",
       "      <td>340036.2</td>\n",
       "      <td>20.0</td>\n",
       "      <td>6.0</td>\n",
       "      <td>0.0</td>\n",
       "      <td>33.0</td>\n",
       "      <td>20.0</td>\n",
       "      <td>1.0</td>\n",
       "      <td>20.0</td>\n",
       "      <td>20.0</td>\n",
       "    </tr>\n",
       "    <tr>\n",
       "      <td>4</td>\n",
       "      <td>2019-03-01</td>\n",
       "      <td>COMP_REF9</td>\n",
       "      <td>0.0000</td>\n",
       "      <td>0.000000</td>\n",
       "      <td>357800.0</td>\n",
       "      <td>340036.2</td>\n",
       "      <td>20.0</td>\n",
       "      <td>6.0</td>\n",
       "      <td>0.0</td>\n",
       "      <td>33.0</td>\n",
       "      <td>20.0</td>\n",
       "      <td>1.0</td>\n",
       "      <td>20.0</td>\n",
       "      <td>20.0</td>\n",
       "    </tr>\n",
       "  </tbody>\n",
       "</table>\n",
       "</div>"
      ],
      "text/plain": [
       "        Date     device     energy   Total Cost  Product_A  Product_B  Temp  \\\n",
       "0 2019-03-01  COMP_REF1  6162.9256  8663.348872   357800.0   340036.2  20.0   \n",
       "1 2019-03-01     TUNEL3  5078.9900  7288.358004   357800.0   340036.2  20.0   \n",
       "2 2019-03-01     TUNEL2     0.0000     0.000000   357800.0   340036.2  20.0   \n",
       "3 2019-03-01     TUNEL1     0.0000     0.000000   357800.0   340036.2  20.0   \n",
       "4 2019-03-01  COMP_REF9     0.0000     0.000000   357800.0   340036.2  20.0   \n",
       "\n",
       "    UV  PrecMM   Hum  Heat   DP  WChill  FLike  \n",
       "0  6.0     0.0  33.0  20.0  1.0    20.0   20.0  \n",
       "1  6.0     0.0  33.0  20.0  1.0    20.0   20.0  \n",
       "2  6.0     0.0  33.0  20.0  1.0    20.0   20.0  \n",
       "3  6.0     0.0  33.0  20.0  1.0    20.0   20.0  \n",
       "4  6.0     0.0  33.0  20.0  1.0    20.0   20.0  "
      ]
     },
     "execution_count": 7,
     "metadata": {},
     "output_type": "execute_result"
    }
   ],
   "source": [
    "# Energy, Production, Climate and Cost data\n",
    "daily_data = hourly_data.groupby(by=[\"Date\",\"device\"], as_index=False).sum()\n",
    "daily_data = pd.merge(daily_data, production_df, \n",
    "                      how='left', on='Date')\n",
    "daily_data = pd.merge(daily_data, climate_df, \n",
    "                      how='left', on='Date')\n",
    "daily_data[\"Date\"] = pd.to_datetime(daily_data[\"Date\"], dayfirst=True, format=\"%d/%m/%Y\")\n",
    "daily_data.sort_values(by=\"Date\", inplace=True)\n",
    "daily_data.reset_index(drop=True, inplace=True)\n",
    "daily_data.head()"
   ]
  },
  {
   "cell_type": "markdown",
   "metadata": {},
   "source": [
    "# Analysis "
   ]
  },
  {
   "cell_type": "markdown",
   "metadata": {},
   "source": [
    "## What are the main climate variables that affect the factory production? "
   ]
  },
  {
   "cell_type": "code",
   "execution_count": 87,
   "metadata": {},
   "outputs": [],
   "source": [
    "# José/Jorge"
   ]
  },
  {
   "cell_type": "code",
   "execution_count": 4,
   "metadata": {},
   "outputs": [],
   "source": [
    "# Graficar producto A y B VS Climate "
   ]
  },
  {
   "cell_type": "code",
   "execution_count": null,
   "metadata": {},
   "outputs": [],
   "source": []
  },
  {
   "cell_type": "code",
   "execution_count": null,
   "metadata": {},
   "outputs": [],
   "source": []
  },
  {
   "cell_type": "code",
   "execution_count": null,
   "metadata": {},
   "outputs": [],
   "source": []
  },
  {
   "cell_type": "code",
   "execution_count": null,
   "metadata": {},
   "outputs": [],
   "source": []
  },
  {
   "cell_type": "code",
   "execution_count": null,
   "metadata": {},
   "outputs": [],
   "source": []
  },
  {
   "cell_type": "code",
   "execution_count": null,
   "metadata": {},
   "outputs": [],
   "source": []
  },
  {
   "cell_type": "code",
   "execution_count": null,
   "metadata": {},
   "outputs": [],
   "source": []
  },
  {
   "cell_type": "code",
   "execution_count": null,
   "metadata": {},
   "outputs": [],
   "source": []
  },
  {
   "cell_type": "markdown",
   "metadata": {},
   "source": [
    "## What are the main climate variables that affect the energy consumption?"
   ]
  },
  {
   "cell_type": "code",
   "execution_count": 88,
   "metadata": {},
   "outputs": [],
   "source": [
    "# José/Jorge"
   ]
  },
  {
   "cell_type": "code",
   "execution_count": 5,
   "metadata": {},
   "outputs": [],
   "source": [
    "# Graficar devices VS climate"
   ]
  },
  {
   "cell_type": "code",
   "execution_count": null,
   "metadata": {},
   "outputs": [],
   "source": []
  },
  {
   "cell_type": "code",
   "execution_count": null,
   "metadata": {},
   "outputs": [],
   "source": []
  },
  {
   "cell_type": "markdown",
   "metadata": {},
   "source": [
    "## How is it correlated the production and the energy consumption?"
   ]
  },
  {
   "cell_type": "code",
   "execution_count": 81,
   "metadata": {},
   "outputs": [],
   "source": [
    "# Luis"
   ]
  },
  {
   "cell_type": "code",
   "execution_count": 6,
   "metadata": {},
   "outputs": [],
   "source": [
    "# Graficas de scatter, correlación y regresión"
   ]
  },
  {
   "cell_type": "code",
   "execution_count": null,
   "metadata": {},
   "outputs": [],
   "source": []
  },
  {
   "cell_type": "code",
   "execution_count": null,
   "metadata": {},
   "outputs": [],
   "source": []
  },
  {
   "cell_type": "code",
   "execution_count": null,
   "metadata": {},
   "outputs": [],
   "source": []
  },
  {
   "cell_type": "code",
   "execution_count": null,
   "metadata": {},
   "outputs": [],
   "source": []
  },
  {
   "cell_type": "code",
   "execution_count": null,
   "metadata": {},
   "outputs": [],
   "source": []
  },
  {
   "cell_type": "markdown",
   "metadata": {},
   "source": [
    "## Define the energy consumption curve for each month of the year. "
   ]
  },
  {
   "cell_type": "code",
   "execution_count": 82,
   "metadata": {},
   "outputs": [],
   "source": [
    "# Luis"
   ]
  },
  {
   "cell_type": "code",
   "execution_count": null,
   "metadata": {},
   "outputs": [],
   "source": []
  },
  {
   "cell_type": "code",
   "execution_count": 11,
   "metadata": {},
   "outputs": [
    {
     "data": {
      "text/plain": [
       "[1, 2, 3]"
      ]
     },
     "execution_count": 11,
     "metadata": {},
     "output_type": "execute_result"
    }
   ],
   "source": [
    "\n",
    "month_number=[1, 2, 3]\n",
    "month_number"
   ]
  },
  {
   "cell_type": "markdown",
   "metadata": {},
   "source": [
    "## Define the energy consumption curve for each season of the year."
   ]
  },
  {
   "cell_type": "code",
   "execution_count": 88,
   "metadata": {},
   "outputs": [
    {
     "data": {
      "image/png": "[encoded data removed]",
      "text/plain": [
       "<Figure size 432x288 with 1 Axes>"
      ]
     },
     "metadata": {
      "needs_background": "light"
     },
     "output_type": "display_data"
    },
    {
     "data": {
      "image/png": "[encoded data removed]",
      "text/plain": [
       "<Figure size 432x288 with 1 Axes>"
      ]
     },
     "metadata": {
      "needs_background": "light"
     },
     "output_type": "display_data"
    },
    {
     "data": {
      "image/png": "[encoded data removed]",
      "text/plain": [
       "<Figure size 432x288 with 1 Axes>"
      ]
     },
     "metadata": {
      "needs_background": "light"
     },
     "output_type": "display_data"
    },
    {
     "data": {
      "image/png": "[encoded data removed]",
      "text/plain": [
       "<Figure size 432x288 with 1 Axes>"
      ]
     },
     "metadata": {
      "needs_background": "light"
     },
     "output_type": "display_data"
    }
   ],
   "source": [
    "### Lupita\n",
    "\n",
    "by_date= daily_data.groupby(by=[\"Date\"], as_index=False)[\"energy\"].sum()\n",
    "\n",
    "\n",
    "winter_df = by_date[(by_date['Date'].dt.month == 1) | (by_date['Date'].dt.month == 2) | (by_date['Date'].dt.month == 3)]\n",
    "spring_df = by_date[(by_date['Date'].dt.month == 4) | (by_date['Date'].dt.month == 5) | (by_date['Date'].dt.month == 6)]\n",
    "summer_df = by_date[(by_date['Date'].dt.month == 7) | (by_date['Date'].dt.month == 8) | (by_date['Date'].dt.month == 9)]\n",
    "fall_df = by_date[(by_date['Date'].dt.month == 10) | (by_date['Date'].dt.month == 11) | (by_date['Date'].dt.month == 12)]\n",
    "\n",
    "#winter_df.to_csv(r'winter.csv')\n",
    "\n",
    "#Igualar escala\n",
    "\n",
    "winter_df.head(120)\n",
    "\n",
    "winter_df.plot(kind = \"line\", x = \"Date\", y = \"energy\", \n",
    "                     title = \"Energy Consumption curve for Winter Season\")\n",
    "plt.xlabel(\"Winter\")\n",
    "plt.ylabel(\"Energy\")\n",
    "\n",
    "spring_df.plot(kind = \"line\", x = \"Date\", y = \"energy\", \n",
    "                     title = \"Energy Consumption curve for Spring Season\")\n",
    "plt.xlabel(\"Spring\")\n",
    "plt.ylabel(\"Energy\")\n",
    "\n",
    "summer_df.plot(kind = \"line\", x = \"Date\", y = \"energy\", \n",
    "                     title = \"Energy Consumption curve for Summer Season\")\n",
    "plt.xlabel(\"Summer\")\n",
    "plt.ylabel(\"Energy\")\n",
    "\n",
    "fall_df.plot(kind = \"line\", x = \"Date\", y = \"energy\", \n",
    "                     title = \"Energy Consumption curve for Fall Season\")\n",
    "plt.xlabel(\"Fall\")\n",
    "plt.ylabel(\"Energy\")\n",
    "plt.show()\n"
   ]
  },
  {
   "cell_type": "code",
   "execution_count": null,
   "metadata": {},
   "outputs": [],
   "source": []
  },
  {
   "cell_type": "code",
   "execution_count": null,
   "metadata": {},
   "outputs": [],
   "source": []
  },
  {
   "cell_type": "code",
   "execution_count": null,
   "metadata": {},
   "outputs": [],
   "source": []
  },
  {
   "cell_type": "markdown",
   "metadata": {},
   "source": [
    "## For each group of devices, rank them by cost.\n"
   ]
  },
  {
   "cell_type": "code",
   "execution_count": 91,
   "metadata": {},
   "outputs": [
    {
     "data": {
      "text/html": [
       "<div>\n",
       "<style scoped>\n",
       "    .dataframe tbody tr th:only-of-type {\n",
       "        vertical-align: middle;\n",
       "    }\n",
       "\n",
       "    .dataframe tbody tr th {\n",
       "        vertical-align: top;\n",
       "    }\n",
       "\n",
       "    .dataframe thead th {\n",
       "        text-align: right;\n",
       "    }\n",
       "</style>\n",
       "<table border=\"1\" class=\"dataframe\">\n",
       "  <thead>\n",
       "    <tr style=\"text-align: right;\">\n",
       "      <th></th>\n",
       "      <th>device</th>\n",
       "      <th>Total Cost</th>\n",
       "    </tr>\n",
       "  </thead>\n",
       "  <tbody>\n",
       "    <tr>\n",
       "      <td>3</td>\n",
       "      <td>COMP_REF2</td>\n",
       "      <td>2.491965e+06</td>\n",
       "    </tr>\n",
       "    <tr>\n",
       "      <td>1</td>\n",
       "      <td>COMP_REF13</td>\n",
       "      <td>1.989496e+06</td>\n",
       "    </tr>\n",
       "    <tr>\n",
       "      <td>6</td>\n",
       "      <td>COMP_REF7</td>\n",
       "      <td>1.958276e+06</td>\n",
       "    </tr>\n",
       "    <tr>\n",
       "      <td>7</td>\n",
       "      <td>COMP_REF8</td>\n",
       "      <td>1.940628e+06</td>\n",
       "    </tr>\n",
       "    <tr>\n",
       "      <td>0</td>\n",
       "      <td>COMP_REF1</td>\n",
       "      <td>1.811661e+06</td>\n",
       "    </tr>\n",
       "    <tr>\n",
       "      <td>11</td>\n",
       "      <td>TUNEL3</td>\n",
       "      <td>1.719155e+06</td>\n",
       "    </tr>\n",
       "    <tr>\n",
       "      <td>2</td>\n",
       "      <td>COMP_REF14</td>\n",
       "      <td>1.301846e+06</td>\n",
       "    </tr>\n",
       "    <tr>\n",
       "      <td>5</td>\n",
       "      <td>COMP_REF6</td>\n",
       "      <td>1.158190e+06</td>\n",
       "    </tr>\n",
       "    <tr>\n",
       "      <td>10</td>\n",
       "      <td>TUNEL2</td>\n",
       "      <td>1.087575e+06</td>\n",
       "    </tr>\n",
       "    <tr>\n",
       "      <td>4</td>\n",
       "      <td>COMP_REF4</td>\n",
       "      <td>9.547685e+05</td>\n",
       "    </tr>\n",
       "    <tr>\n",
       "      <td>8</td>\n",
       "      <td>COMP_REF9</td>\n",
       "      <td>5.594378e+05</td>\n",
       "    </tr>\n",
       "    <tr>\n",
       "      <td>9</td>\n",
       "      <td>TUNEL1</td>\n",
       "      <td>4.386049e+05</td>\n",
       "    </tr>\n",
       "  </tbody>\n",
       "</table>\n",
       "</div>"
      ],
      "text/plain": [
       "        device    Total Cost\n",
       "3    COMP_REF2  2.491965e+06\n",
       "1   COMP_REF13  1.989496e+06\n",
       "6    COMP_REF7  1.958276e+06\n",
       "7    COMP_REF8  1.940628e+06\n",
       "0    COMP_REF1  1.811661e+06\n",
       "11      TUNEL3  1.719155e+06\n",
       "2   COMP_REF14  1.301846e+06\n",
       "5    COMP_REF6  1.158190e+06\n",
       "10      TUNEL2  1.087575e+06\n",
       "4    COMP_REF4  9.547685e+05\n",
       "8    COMP_REF9  5.594378e+05\n",
       "9       TUNEL1  4.386049e+05"
      ]
     },
     "execution_count": 91,
     "metadata": {},
     "output_type": "execute_result"
    }
   ],
   "source": [
    "# Lupita\n",
    "\n",
    "by_device= daily_data.groupby(by=[\"device\"], as_index=False)[\"Total Cost\"].sum()\n",
    "by_device= by_device.sort_values(by=[\"Total Cost\"], ascending=False)\n",
    "by_device\n"
   ]
  },
  {
   "cell_type": "code",
   "execution_count": 94,
   "metadata": {},
   "outputs": [
    {
     "data": {
      "text/plain": [
       "(array([ 0,  1,  2,  3,  4,  5,  6,  7,  8,  9, 10, 11]),\n",
       " <a list of 12 Text xticklabel objects>)"
      ]
     },
     "execution_count": 94,
     "metadata": {},
     "output_type": "execute_result"
    },
    {
     "data": {
      "image/png": "[encoded data removed]",
      "text/plain": [
       "<Figure size 432x288 with 1 Axes>"
      ]
     },
     "metadata": {
      "needs_background": "light"
     },
     "output_type": "display_data"
    }
   ],
   "source": [
    "by_device.plot(kind = \"bar\", x = \"device\", y = \"Total Cost\", \n",
    "                     title = \"Total Cost spent by device\")\n",
    "plt.xlabel(\"Device\")\n",
    "plt.ylabel(\"Total Cost\")\n",
    "plt.xticks(rotation = 60)"
   ]
  },
  {
   "cell_type": "code",
   "execution_count": null,
   "metadata": {},
   "outputs": [],
   "source": []
  },
  {
   "cell_type": "markdown",
   "metadata": {},
   "source": [
    "## Anual base line for each device.  "
   ]
  },
  {
   "cell_type": "code",
   "execution_count": 89,
   "metadata": {},
   "outputs": [],
   "source": [
    "# Daniel"
   ]
  },
  {
   "cell_type": "code",
   "execution_count": null,
   "metadata": {},
   "outputs": [],
   "source": []
  },
  {
   "cell_type": "code",
   "execution_count": null,
   "metadata": {},
   "outputs": [],
   "source": []
  },
  {
   "cell_type": "code",
   "execution_count": null,
   "metadata": {},
   "outputs": [],
   "source": []
  },
  {
   "cell_type": "code",
   "execution_count": null,
   "metadata": {},
   "outputs": [],
   "source": []
  },
  {
   "cell_type": "markdown",
   "metadata": {},
   "source": [
    "## Make production recommendations, based on the optimal production. "
   ]
  },
  {
   "cell_type": "code",
   "execution_count": 86,
   "metadata": {},
   "outputs": [],
   "source": [
    "# Daniel"
   ]
  },
  {
   "cell_type": "code",
   "execution_count": null,
   "metadata": {},
   "outputs": [],
   "source": []
  },
  {
   "cell_type": "code",
   "execution_count": null,
   "metadata": {},
   "outputs": [],
   "source": []
  },
  {
   "cell_type": "code",
   "execution_count": null,
   "metadata": {},
   "outputs": [],
   "source": []
  },
  {
   "cell_type": "code",
   "execution_count": null,
   "metadata": {},
   "outputs": [],
   "source": []
  },
  {
   "cell_type": "code",
   "execution_count": null,
   "metadata": {},
   "outputs": [],
   "source": []
  }
 ],
 "metadata": {
  "kernelspec": {
   "display_name": "Python 3",
   "language": "python",
   "name": "python3"
  },
  "language_info": {
   "codemirror_mode": {
    "name": "ipython",
    "version": 3
   },
   "file_extension": ".py",
   "mimetype": "text/x-python",
   "name": "python",
   "nbconvert_exporter": "python",
   "pygments_lexer": "ipython3",
   "version": "3.7.4"
  },
  "toc": {
   "base_numbering": 1,
   "nav_menu": {},
   "number_sections": true,
   "sideBar": true,
   "skip_h1_title": false,
   "title_cell": "Table of Contents",
   "title_sidebar": "Contents",
   "toc_cell": false,
   "toc_position": {},
   "toc_section_display": true,
   "toc_window_display": true
  }
 },
 "nbformat": 4,
 "nbformat_minor": 2
}
