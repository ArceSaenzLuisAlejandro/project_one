{
 "cells": [
  {
   "cell_type": "code",
   "execution_count": 4,
   "metadata": {},
   "outputs": [],
   "source": [
    "import pandas as pd\n",
    "import requests\n",
    "import json"
   ]
  },
  {
   "cell_type": "code",
   "execution_count": 6,
   "metadata": {},
   "outputs": [],
   "source": [
    "key = '22bbc46976cc45e8b1104224200104'"
   ]
  },
  {
   "cell_type": "code",
   "execution_count": 7,
   "metadata": {},
   "outputs": [
    {
     "name": "stdout",
     "output_type": "stream",
     "text": [
      "http://api.worldweatheronline.com/premium/v1/past-weather.ashx?key=22bbc46976cc45e8b1104224200104&q=19.364136,%-99.277035&format=json&date=2019-05-01&enddate=2019-05-31&fx24=yes&tp=1&includelocation=yes&show_comments=no\n"
     ]
    }
   ],
   "source": [
    "latitud = '19.364136'\n",
    "longitud = '-99.277035'\n",
    "formato = 'json'\n",
    "date = '2019-05-01'\n",
    "end_date = '2019-05-31'\n",
    "fx24 = \"yes\"\n",
    "tp='1'\n",
    "include_location='yes'\n",
    "show_comments = 'no'\n",
    "url=\"http://api.worldweatheronline.com/premium/v1/past-weather.ashx?key={key}&q={latitud},%{longitud}&format={formato}&date={date}&enddate={end_date}&fx24={fx24}&tp={tp}&includelocation={include_location}&show_comments={show_comments}\".format(key=key,latitud=latitud,longitud=longitud,formato=formato,date=date,end_date=end_date,fx24=fx24,tp=tp,include_location=include_location,show_comments=show_comments)\n",
    "print (url)"
   ]
  },
  {
   "cell_type": "code",
   "execution_count": 8,
   "metadata": {},
   "outputs": [
    {
     "name": "stdout",
     "output_type": "stream",
     "text": [
      "Success\n"
     ]
    }
   ],
   "source": [
    "# Verificar funcionamiento API\n",
    "response = requests.get(url)\n",
    "if response.status_code == 200:\n",
    "    print('Success')\n",
    "else:\n",
    "    print('Not Found')"
   ]
  },
  {
   "cell_type": "code",
   "execution_count": 10,
   "metadata": {},
   "outputs": [
    {
     "ename": "NameError",
     "evalue": "name 'json_normalize' is not defined",
     "output_type": "error",
     "traceback": [
      "\u001b[1;31m---------------------------------------------------------------------------\u001b[0m",
      "\u001b[1;31mNameError\u001b[0m                                 Traceback (most recent call last)",
      "\u001b[1;32m<ipython-input-10-3395af3a47ed>\u001b[0m in \u001b[0;36m<module>\u001b[1;34m\u001b[0m\n\u001b[0;32m      3\u001b[0m \u001b[0mdata_json\u001b[0m\u001b[1;33m\u001b[0m\u001b[1;33m\u001b[0m\u001b[0m\n\u001b[0;32m      4\u001b[0m \u001b[1;31m# Obtener datos de ubicación desde JSON\u001b[0m\u001b[1;33m\u001b[0m\u001b[1;33m\u001b[0m\u001b[1;33m\u001b[0m\u001b[0m\n\u001b[1;32m----> 5\u001b[1;33m \u001b[0mlocation_json\u001b[0m \u001b[1;33m=\u001b[0m \u001b[0mjson_normalize\u001b[0m\u001b[1;33m(\u001b[0m\u001b[0mdata\u001b[0m\u001b[1;33m=\u001b[0m\u001b[0mdata_json\u001b[0m\u001b[1;33m[\u001b[0m\u001b[1;34m'data'\u001b[0m\u001b[1;33m]\u001b[0m\u001b[1;33m,\u001b[0m\u001b[0mrecord_path\u001b[0m\u001b[1;33m=\u001b[0m\u001b[1;33m[\u001b[0m\u001b[1;34m'nearest_area'\u001b[0m\u001b[1;33m]\u001b[0m\u001b[1;33m,\u001b[0m\u001b[0merrors\u001b[0m\u001b[1;33m=\u001b[0m\u001b[1;34m'ignore'\u001b[0m\u001b[1;33m)\u001b[0m\u001b[1;33m\u001b[0m\u001b[1;33m\u001b[0m\u001b[0m\n\u001b[0m\u001b[0;32m      6\u001b[0m \u001b[0mlocation_json\u001b[0m \u001b[1;33m=\u001b[0m \u001b[0mlocation_json\u001b[0m\u001b[1;33m.\u001b[0m\u001b[0mastype\u001b[0m\u001b[1;33m(\u001b[0m\u001b[0mdtype\u001b[0m\u001b[1;33m=\u001b[0m \u001b[1;33m{\u001b[0m\u001b[1;34m\"latitude\"\u001b[0m\u001b[1;33m:\u001b[0m\u001b[1;34m\"float\"\u001b[0m\u001b[1;33m,\u001b[0m\u001b[1;34m\"longitude\"\u001b[0m\u001b[1;33m:\u001b[0m\u001b[1;34m\"float\"\u001b[0m\u001b[1;33m,\u001b[0m\u001b[1;34m\"population\"\u001b[0m\u001b[1;33m:\u001b[0m\u001b[1;34m\"float\"\u001b[0m\u001b[1;33m}\u001b[0m\u001b[1;33m)\u001b[0m\u001b[1;33m\u001b[0m\u001b[1;33m\u001b[0m\u001b[0m\n\u001b[0;32m      7\u001b[0m \u001b[0mprint\u001b[0m\u001b[1;33m(\u001b[0m\u001b[0mlocation_json\u001b[0m\u001b[1;33m.\u001b[0m\u001b[0mdtypes\u001b[0m\u001b[1;33m)\u001b[0m\u001b[1;33m\u001b[0m\u001b[1;33m\u001b[0m\u001b[0m\n",
      "\u001b[1;31mNameError\u001b[0m: name 'json_normalize' is not defined"
     ]
    }
   ],
   "source": [
    "# Response from JSON\n",
    "data_json = response.json()\n",
    "data_json\n",
    "# Obtener datos de ubicación desde JSON\n",
    "location_json = json_normalize(data=data_json['data'],record_path=['nearest_area'],errors='ignore')\n",
    "location_json = location_json.astype(dtype= {\"latitude\":\"float\",\"longitude\":\"float\",\"population\":\"float\"})\n",
    "print(location_json.dtypes)\n",
    "data_location = location_json.head(50)\n",
    "data_location"
   ]
  },
  {
   "cell_type": "code",
   "execution_count": null,
   "metadata": {},
   "outputs": [],
   "source": [
    "hour_json = json_normalize(data=data_json['data'],record_path['weather'],errors='ignore')\n",
    "\n",
    "# Obtener 'Weather' desde JSON\n",
    "weather_json = json_normalize(data=data_json['data'],record_path=['weather'],errors='ignore')\n",
    "data_weather = weather_json\n",
    "data_weather"
   ]
  },
  {
   "cell_type": "code",
   "execution_count": null,
   "metadata": {},
   "outputs": [],
   "source": [
    "# Obtener 'Astronomy' desde JSON \n",
    "weather_astronomy_json = json_normalize(data=data_json['data'],record_path=['weather',['astronomy']],errors='ignore')\n",
    "data_weather_astronomy = weather_astronomy_json\n",
    "data_weather_astronomy"
   ]
  },
  {
   "cell_type": "code",
   "execution_count": null,
   "metadata": {},
   "outputs": [],
   "source": [
    "\n",
    "# Obtener 'Hourly' desde JSON\n",
    "weather_hourly_json = json_normalize(data=data_json['data'],record_path=['weather',['hourly']],errors='ignore')\n",
    "data_weather_hourly = weather_hourly_json\n",
    "data_weather_hourly\n",
    "# DataFrame 'Weather', 'Astronomy', 'Hourly'\n"
   ]
  },
  {
   "cell_type": "code",
   "execution_count": null,
   "metadata": {},
   "outputs": [],
   "source": [
    "\n",
    "weather = pandas.DataFrame(data_weather)\n",
    "astronomy = pandas.DataFrame(data_weather_astronomy)\n",
    "hourly = pandas.DataFrame(data_weather_hourly)\n",
    "display(hourly)\n",
    "#display(weather)\n",
    "# Merge 'Weather' & 'Hourly'"
   ]
  },
  {
   "cell_type": "code",
   "execution_count": null,
   "metadata": {},
   "outputs": [],
   "source": [
    "\n",
    "\n",
    "\n",
    "\n",
    "\n",
    "\n",
    "\n",
    "\n",
    "weather_final = pandas.merge(weather_astronomy,hourly,left_index=True,right_index=True).drop('hourly',axis=1).drop('weatherDesc',axis=1).drop('weatherIconUrl',axis=1).drop('moon_phase',axis=1).drop('weatherCode',axis=1).drop('maxtempF',axis=1).drop('mintempF',axis=1).drop('moon_illumination',axis=1).drop('moonrise',axis=1).drop('moonset',axis=1).drop('DewPointF',axis=1).drop('FeelsLikeF',axis=1).drop('HeatIndexF',axis=1).drop('WindChillF',axis=1).drop('WindGustKmph',axis=1).drop('WindGustMiles',axis=1).drop('tempF',axis=1).drop('visibility',axis=1).drop('winddir16Point',axis=1).drop('windspeedKmph',axis=1).drop('windspeedMiles',axis=1).drop('sunHour',axis=1).drop('totalSnow_cm',axis=1).drop('uvIndex_x',axis=1).drop('sunrise',axis=1).drop('sunset',axis=1).drop('pressure',axis=1).drop('time',axis=1).drop('uvIndex_y',axis=1).drop('winddirDegree',axis=1).drop('maxtempC',axis=1).drop('mintempC',axis=1).drop('HeatIndexC',axis=1).drop('WindChillC',axis=1).drop('cloudcover',axis=1).drop('precipMM',axis=1).drop('avgtempC',axis=1).drop('avgtempF',axis=1).drop('precipInches',axis=1).drop('pressureInches',axis=1).drop('visibilityMiles',axis=1)\n",
    "weather_final = weather_final.astype(dtype= {\"tempC\":\"int\",\"date\":\"datetime64\",\"DewPointC\":\"int\",\"FeelsLikeC\":\"int\",\"humidity\":\"int\"})\n",
    "display(weather_final)\n",
    "print(weather_final.dtypes)\n",
    "# Request directory to save data\n"
   ]
  },
  {
   "cell_type": "code",
   "execution_count": null,
   "metadata": {},
   "outputs": [],
   "source": []
  },
  {
   "cell_type": "code",
   "execution_count": null,
   "metadata": {},
   "outputs": [],
   "source": []
  },
  {
   "cell_type": "code",
   "execution_count": null,
   "metadata": {},
   "outputs": [],
   "source": []
  },
  {
   "cell_type": "code",
   "execution_count": null,
   "metadata": {},
   "outputs": [],
   "source": []
  },
  {
   "cell_type": "code",
   "execution_count": null,
   "metadata": {},
   "outputs": [],
   "source": []
  },
  {
   "cell_type": "code",
   "execution_count": null,
   "metadata": {},
   "outputs": [],
   "source": []
  },
  {
   "cell_type": "code",
   "execution_count": null,
   "metadata": {},
   "outputs": [],
   "source": []
  },
  {
   "cell_type": "code",
   "execution_count": null,
   "metadata": {},
   "outputs": [],
   "source": []
  },
  {
   "cell_type": "code",
   "execution_count": null,
   "metadata": {},
   "outputs": [],
   "source": []
  },
  {
   "cell_type": "code",
   "execution_count": null,
   "metadata": {},
   "outputs": [],
   "source": []
  },
  {
   "cell_type": "code",
   "execution_count": null,
   "metadata": {},
   "outputs": [],
   "source": []
  },
  {
   "cell_type": "code",
   "execution_count": null,
   "metadata": {},
   "outputs": [],
   "source": []
  },
  {
   "cell_type": "code",
   "execution_count": null,
   "metadata": {},
   "outputs": [],
   "source": []
  },
  {
   "cell_type": "code",
   "execution_count": null,
   "metadata": {},
   "outputs": [],
   "source": []
  },
  {
   "cell_type": "code",
   "execution_count": null,
   "metadata": {},
   "outputs": [],
   "source": []
  },
  {
   "cell_type": "code",
   "execution_count": null,
   "metadata": {},
   "outputs": [],
   "source": []
  },
  {
   "cell_type": "code",
   "execution_count": null,
   "metadata": {},
   "outputs": [],
   "source": []
  },
  {
   "cell_type": "code",
   "execution_count": null,
   "metadata": {},
   "outputs": [],
   "source": []
  },
  {
   "cell_type": "code",
   "execution_count": null,
   "metadata": {},
   "outputs": [],
   "source": []
  },
  {
   "cell_type": "code",
   "execution_count": null,
   "metadata": {},
   "outputs": [],
   "source": []
  },
  {
   "cell_type": "code",
   "execution_count": null,
   "metadata": {},
   "outputs": [],
   "source": []
  }
 ],
 "metadata": {
  "kernelspec": {
   "display_name": "Python 3",
   "language": "python",
   "name": "python3"
  },
  "language_info": {
   "codemirror_mode": {
    "name": "ipython",
    "version": 3
   },
   "file_extension": ".py",
   "mimetype": "text/x-python",
   "name": "python",
   "nbconvert_exporter": "python",
   "pygments_lexer": "ipython3",
   "version": "3.7.4"
  },
  "toc": {
   "base_numbering": 1,
   "nav_menu": {},
   "number_sections": true,
   "sideBar": true,
   "skip_h1_title": false,
   "title_cell": "Table of Contents",
   "title_sidebar": "Contents",
   "toc_cell": false,
   "toc_position": {},
   "toc_section_display": true,
   "toc_window_display": false
  }
 },
 "nbformat": 4,
 "nbformat_minor": 2
}
